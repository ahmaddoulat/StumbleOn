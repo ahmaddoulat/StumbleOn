{
 "cells": [
  {
   "cell_type": "code",
   "execution_count": 1,
   "metadata": {},
   "outputs": [],
   "source": [
    "import pandas as pd\n",
    "from collections import defaultdict, Counter\n",
    "from os import listdir\n",
    "from scipy.stats import itemfreq\n",
    "import scipy.stats as stats\n",
    "import numpy as np\n",
    "import statistics\n",
    "from statistics import mean\n",
    "import csv"
   ]
  },
  {
   "cell_type": "code",
   "execution_count": 2,
   "metadata": {},
   "outputs": [],
   "source": [
    "pre_cats_interest_df = pd.read_csv(\"./results/stumbleon2_usercategoryinterest.csv\")\n",
    "post_cats_interest_df = pd.read_csv(\"./results/stumbleon2_usercategorypostinterest.csv\")"
   ]
  },
  {
   "cell_type": "code",
   "execution_count": 3,
   "metadata": {},
   "outputs": [],
   "source": [
    "users_ids = pre_cats_interest_df.user_id.unique()"
   ]
  },
  {
   "cell_type": "code",
   "execution_count": 4,
   "metadata": {},
   "outputs": [],
   "source": [
    "similarities = []\n",
    "for user_id in users_ids:\n",
    "    pre =  pre_cats_interest_df[pre_cats_interest_df['user_id'] == user_id].category_id\n",
    "    post = post_cats_interest_df[post_cats_interest_df['user_id'] == user_id].category_id\n",
    "    similarities.append(len(set(pre) & set(post))/ ((len(pre)+len(post))-len(set(pre) & set(post))))"
   ]
  },
  {
   "cell_type": "code",
   "execution_count": 5,
   "metadata": {},
   "outputs": [
    {
     "data": {
      "text/plain": [
       "0.6178349428349428"
      ]
     },
     "execution_count": 5,
     "metadata": {},
     "output_type": "execute_result"
    }
   ],
   "source": [
    "mean(similarities)"
   ]
  },
  {
   "cell_type": "code",
   "execution_count": 6,
   "metadata": {},
   "outputs": [],
   "source": [
    "user_interested_topics_dict = defaultdict(dict)\n",
    "for user_id in users_ids:\n",
    "    pre =  list(pre_cats_interest_df[pre_cats_interest_df['user_id'] == user_id].category_id)\n",
    "    post = list(post_cats_interest_df[post_cats_interest_df['user_id'] == user_id].category_id)\n",
    "    user_interested_topics_dict[user_id]['pre'] = pre\n",
    "    user_interested_topics_dict[user_id]['post'] = post    "
   ]
  },
  {
   "cell_type": "code",
   "execution_count": 7,
   "metadata": {},
   "outputs": [],
   "source": [
    "users_approaches = pd.read_csv('users_approaches.csv')"
   ]
  },
  {
   "cell_type": "markdown",
   "metadata": {},
   "source": [
    "# User category interest before (pre) and after (post) using StumbleOn"
   ]
  },
  {
   "cell_type": "code",
   "execution_count": 8,
   "metadata": {},
   "outputs": [
    {
     "name": "stdout",
     "output_type": "stream",
     "text": [
      "Approach: adaptive user_id: 237 {'pre': [115, 51, 66, 2, 80, 105], 'post': [115, 66, 2, 105]}\n",
      "Approach: adaptive user_id: 249 {'pre': [71, 19, 45, 130, 21, 51, 2, 37, 49, 68], 'post': [71, 45, 21, 51, 2, 37, 49, 68]}\n",
      "Approach: pmi user_id: 261 {'pre': [19, 40, 44, 7, 37, 49, 61, 48], 'post': [19, 40, 43, 7, 49, 61, 48]}\n",
      "Approach: adaptive user_id: 265 {'pre': [97, 94, 21, 25, 22, 18, 33], 'post': [97, 20, 94, 44, 43, 25, 22, 68, 57, 60, 33]}\n",
      "Approach: pmi user_id: 269 {'pre': [97, 78, 116, 19, 82, 74, 28, 39, 34, 13], 'post': [97, 116, 74, 28, 39, 34, 13, 120]}\n",
      "Approach: adaptive user_id: 272 {'pre': [78, 19, 112, 18, 49], 'post': [78, 19, 13, 18, 49]}\n",
      "Approach: pmi user_id: 276 {'pre': [74, 21, 18, 57, 60], 'post': [74, 11, 21, 25, 2, 18, 57, 60]}\n",
      "Approach: adaptive user_id: 278 {'pre': [78, 74, 120, 2, 37, 49, 57, 48], 'post': [78, 37, 49, 31, 57, 48]}\n",
      "Approach: pmi user_id: 284 {'pre': [71, 74, 21, 32, 25, 18, 61, 57], 'post': [71, 74, 21, 25, 18, 61]}\n",
      "Approach: adaptive user_id: 287 {'pre': [71, 82, 21, 51, 18, 84, 37, 61, 10, 105], 'post': [71, 82, 21, 18, 84, 37, 61, 10, 105]}\n",
      "Approach: pmi user_id: 292 {'pre': [4, 135, 32, 2, 102, 89, 42, 57, 123, 105], 'post': [135, 32, 102, 89, 42, 57, 123]}\n",
      "Approach: adaptive user_id: 294 {'pre': [20, 4, 71, 82, 28, 43, 13, 51, 66, 25], 'post': [2, 102, 50, 18, 75]}\n",
      "Approach: pmi user_id: 298 {'pre': [71, 19, 11, 21, 103, 102, 18, 68], 'post': [71, 103, 2, 18, 68, 57, 60]}\n",
      "Approach: adaptive user_id: 301 {'pre': [78, 82, 74, 25, 102, 18, 37, 57], 'post': [78, 32, 102, 18, 57]}\n",
      "Approach: pmi user_id: 303 {'pre': [20, 71, 45, 13, 103, 25, 22, 2, 85, 9], 'post': [97, 20, 71, 19, 21, 120, 25, 22, 2, 85]}\n",
      "Approach: adaptive user_id: 309 {'pre': [97, 135, 17, 1, 22, 48], 'post': [97, 17, 22, 65, 48]}\n",
      "Approach: pmi user_id: 315 {'pre': [97, 4, 82, 32, 25, 7, 49, 57, 128], 'post': [97, 4, 63, 82, 72, 32, 25, 7, 102, 49, 42, 57, 128, 105]}\n",
      "Approach: adaptive user_id: 318 {'pre': [78, 20, 28, 21, 36, 18, 84, 15, 53, 57], 'post': [78, 20, 21, 32, 36, 18, 84, 49, 15, 53, 57]}\n",
      "Approach: adaptive user_id: 321 {'pre': [78, 66, 17, 50, 48], 'post': [78, 66, 17, 50, 48]}\n",
      "Approach: adaptive user_id: 325 {'pre': [71, 34, 32, 102, 37, 60], 'post': [32, 102, 37, 57, 60]}\n",
      "Approach: pmi user_id: 327 {'pre': [71, 34, 21, 36, 2, 18], 'post': [71, 34, 21, 36, 2, 18]}\n",
      "Approach: adaptive user_id: 329 {'pre': [116, 19, 115, 95, 22, 90, 15, 26, 104, 48], 'post': [116, 19, 115, 95, 22, 90, 15, 26, 104, 48]}\n",
      "Approach: pmi user_id: 334 {'pre': [82, 94, 34, 13, 103, 111, 37], 'post': [82, 94, 34, 13, 103, 111, 37]}\n",
      "Approach: pmi user_id: 339 {'pre': [74, 95, 66, 32, 85], 'post': [74, 66, 18, 85, 57]}\n",
      "Approach: pmi user_id: 341 {'pre': [40, 28, 96, 92, 57, 60], 'post': [40, 28, 96, 57]}\n",
      "Approach: pmi user_id: 344 {'pre': [97, 78, 21, 7, 18], 'post': [21, 18, 57, 133, 128]}\n",
      "Approach: pmi user_id: 349 {'pre': [97, 20, 82, 2, 102, 68, 57, 60, 48, 133], 'post': [97, 7, 2, 57, 60, 48, 133]}\n",
      "Approach: adaptive user_id: 351 {'pre': [4, 71, 21, 25, 49, 105], 'post': [20, 4, 71, 21, 25, 111, 49, 57, 23, 105, 33]}\n",
      "Approach: pmi user_id: 354 {'pre': [71, 32, 29, 18, 33], 'post': [4, 71, 18, 37, 48, 33]}\n",
      "Approach: adaptive user_id: 356 {'pre': [28, 66, 32, 111, 100, 134, 61, 42, 57, 105], 'post': [32, 100, 134, 61, 42, 105]}\n"
     ]
    }
   ],
   "source": [
    "for k, v in user_interested_topics_dict.items():\n",
    "    app = users_approaches[users_approaches['user_id']==k].approach.values[0]\n",
    "    print(\"Approach:\", app,  \"user_id:\", k, v)"
   ]
  },
  {
   "cell_type": "code",
   "execution_count": null,
   "metadata": {},
   "outputs": [],
   "source": []
  },
  {
   "cell_type": "code",
   "execution_count": 9,
   "metadata": {},
   "outputs": [],
   "source": [
    "similar_topics_dict = defaultdict(list)\n",
    "for user_id in users_ids:\n",
    "    pre =  pre_cats_interest_df[pre_cats_interest_df['user_id'] == user_id].category_id\n",
    "    post = post_cats_interest_df[post_cats_interest_df['user_id'] == user_id].category_id\n",
    "    similar_topics_dict[user_id] = set(pre) & set(post)"
   ]
  },
  {
   "cell_type": "code",
   "execution_count": 10,
   "metadata": {
    "scrolled": false
   },
   "outputs": [
    {
     "data": {
      "text/plain": [
       "defaultdict(list,\n",
       "            {237: {2, 66, 105, 115},\n",
       "             249: {2, 21, 37, 45, 49, 51, 68, 71},\n",
       "             261: {7, 19, 40, 48, 49, 61},\n",
       "             265: {22, 25, 33, 94, 97},\n",
       "             269: {13, 28, 34, 39, 74, 97, 116},\n",
       "             272: {18, 19, 49, 78},\n",
       "             276: {18, 21, 57, 60, 74},\n",
       "             278: {37, 48, 49, 57, 78},\n",
       "             284: {18, 21, 25, 61, 71, 74},\n",
       "             287: {10, 18, 21, 37, 61, 71, 82, 84, 105},\n",
       "             292: {32, 42, 57, 89, 102, 123, 135},\n",
       "             294: set(),\n",
       "             298: {18, 68, 71, 103},\n",
       "             301: {18, 57, 78, 102},\n",
       "             303: {2, 20, 22, 25, 71, 85},\n",
       "             309: {17, 22, 48, 97},\n",
       "             315: {4, 7, 25, 32, 49, 57, 82, 97, 128},\n",
       "             318: {15, 18, 20, 21, 36, 53, 57, 78, 84},\n",
       "             321: {17, 48, 50, 66, 78},\n",
       "             325: {32, 37, 60, 102},\n",
       "             327: {2, 18, 21, 34, 36, 71},\n",
       "             329: {15, 19, 22, 26, 48, 90, 95, 104, 115, 116},\n",
       "             334: {13, 34, 37, 82, 94, 103, 111},\n",
       "             339: {66, 74, 85},\n",
       "             341: {28, 40, 57, 96},\n",
       "             344: {18, 21},\n",
       "             349: {2, 48, 57, 60, 97, 133},\n",
       "             351: {4, 21, 25, 49, 71, 105},\n",
       "             354: {18, 33, 71},\n",
       "             356: {32, 42, 61, 100, 105, 134}})"
      ]
     },
     "execution_count": 10,
     "metadata": {},
     "output_type": "execute_result"
    }
   ],
   "source": [
    "similar_topics_dict"
   ]
  },
  {
   "cell_type": "markdown",
   "metadata": {},
   "source": [
    "# Category preference before and after using StumbleOn"
   ]
  },
  {
   "cell_type": "code",
   "execution_count": 11,
   "metadata": {
    "scrolled": true
   },
   "outputs": [],
   "source": [
    "topic_preference_change_per_user = defaultdict(dict)\n",
    "for u_id, topic_list in similar_topics_dict.items():\n",
    "    for t in topic_list:\n",
    "        pref_pre = pre_cats_interest_df[(pre_cats_interest_df['user_id'] == u_id) & (pre_cats_interest_df['category_id'] == t)].preference.values[0]\n",
    "        pref_post = post_cats_interest_df[(post_cats_interest_df['user_id'] == u_id) & (post_cats_interest_df['category_id'] == t)].post_preference.values[0]\n",
    "        topic_preference_change_per_user[u_id][t] = [pref_pre, pref_post]"
   ]
  },
  {
   "cell_type": "code",
   "execution_count": 12,
   "metadata": {},
   "outputs": [
    {
     "name": "stdout",
     "output_type": "stream",
     "text": [
      "Approach: adaptive user_id: 237 {105: [4, 4], 2: [5, 3], 115: [4, 2], 66: [2, 4]}\n",
      "Approach: adaptive user_id: 249 {2: [5, 5], 68: [3, 5], 37: [1, 4], 71: [5, 4], 45: [5, 5], 49: [1, 3], 51: [2, 3], 21: [4, 5]}\n",
      "Approach: pmi user_id: 261 {7: [4, 3], 40: [4, 3], 48: [5, 5], 49: [4, 3], 19: [3, 4], 61: [5, 3]}\n",
      "Approach: adaptive user_id: 265 {97: [5, 5], 33: [5, 5], 22: [5, 5], 25: [4, 4], 94: [5, 5]}\n",
      "Approach: pmi user_id: 269 {97: [5, 3], 34: [1, 2], 39: [5, 3], 74: [1, 1], 13: [2, 4], 116: [5, 4], 28: [4, 3]}\n",
      "Approach: adaptive user_id: 272 {49: [4, 4], 18: [3, 4], 19: [3, 3], 78: [5, 5]}\n",
      "Approach: pmi user_id: 276 {74: [2, 3], 18: [5, 5], 21: [3, 4], 57: [1, 5], 60: [4, 4]}\n",
      "Approach: adaptive user_id: 278 {37: [4, 4], 78: [5, 5], 48: [5, 3], 49: [5, 4], 57: [2, 2]}\n",
      "Approach: pmi user_id: 284 {71: [4, 4], 74: [3, 3], 18: [5, 5], 21: [5, 5], 25: [1, 2], 61: [5, 3]}\n",
      "Approach: adaptive user_id: 287 {37: [4, 4], 71: [4, 3], 105: [5, 5], 10: [5, 5], 82: [3, 2], 18: [5, 5], 84: [4, 3], 21: [5, 3], 61: [5, 4]}\n",
      "Approach: pmi user_id: 292 {32: [4, 4], 102: [2, 2], 135: [5, 5], 42: [4, 4], 89: [2, 3], 123: [4, 2], 57: [3, 2]}\n",
      "Approach: pmi user_id: 298 {18: [4, 3], 68: [4, 4], 71: [5, 5], 103: [2, 2]}\n",
      "Approach: adaptive user_id: 301 {78: [5, 4], 18: [5, 5], 102: [4, 4], 57: [4, 5]}\n",
      "Approach: pmi user_id: 303 {2: [2, 1], 71: [5, 5], 20: [5, 3], 85: [5, 5], 22: [5, 5], 25: [4, 2]}\n",
      "Approach: adaptive user_id: 309 {48: [5, 3], 97: [4, 4], 17: [3, 1], 22: [4, 2]}\n",
      "Approach: pmi user_id: 315 {32: [5, 5], 97: [5, 5], 128: [4, 5], 4: [5, 5], 7: [5, 5], 49: [5, 5], 82: [5, 5], 25: [5, 5], 57: [4, 5]}\n",
      "Approach: adaptive user_id: 318 {36: [4, 4], 78: [2, 4], 15: [3, 1], 18: [4, 3], 20: [1, 3], 21: [5, 5], 84: [1, 1], 53: [5, 4], 57: [2, 3]}\n",
      "Approach: adaptive user_id: 321 {66: [3, 5], 78: [2, 5], 48: [1, 5], 17: [5, 5], 50: [4, 5]}\n",
      "Approach: adaptive user_id: 325 {32: [4, 3], 60: [4, 2], 37: [5, 4], 102: [4, 2]}\n",
      "Approach: pmi user_id: 327 {34: [5, 4], 2: [5, 1], 36: [5, 5], 71: [5, 4], 18: [5, 5], 21: [5, 5]}\n",
      "Approach: adaptive user_id: 329 {90: [5, 4], 104: [4, 5], 15: [3, 4], 48: [4, 4], 115: [4, 3], 19: [1, 3], 116: [5, 5], 22: [4, 1], 26: [3, 3], 95: [4, 3]}\n",
      "Approach: pmi user_id: 334 {34: [3, 4], 37: [2, 3], 103: [1, 3], 13: [5, 5], 111: [1, 1], 82: [1, 2], 94: [4, 3]}\n",
      "Approach: pmi user_id: 339 {66: [3, 2], 85: [3, 3], 74: [4, 3]}\n",
      "Approach: pmi user_id: 341 {40: [5, 5], 57: [3, 4], 28: [4, 5], 96: [5, 4]}\n",
      "Approach: pmi user_id: 344 {18: [5, 4], 21: [5, 4]}\n",
      "Approach: pmi user_id: 349 {97: [3, 3], 2: [4, 5], 133: [3, 4], 48: [5, 5], 57: [5, 5], 60: [5, 4]}\n",
      "Approach: adaptive user_id: 351 {4: [4, 4], 71: [5, 4], 105: [1, 1], 49: [5, 5], 21: [3, 4], 25: [2, 1]}\n",
      "Approach: pmi user_id: 354 {33: [3, 1], 18: [5, 2], 71: [4, 5]}\n",
      "Approach: adaptive user_id: 356 {32: [1, 4], 100: [4, 3], 134: [4, 5], 105: [5, 1], 42: [5, 5], 61: [1, 2]}\n"
     ]
    }
   ],
   "source": [
    "for k, v in topic_preference_change_per_user.items():\n",
    "    app = users_approaches[users_approaches['user_id']==k].approach.values[0]\n",
    "    print(\"Approach:\", app,  \"user_id:\", k, v)"
   ]
  },
  {
   "cell_type": "code",
   "execution_count": null,
   "metadata": {},
   "outputs": [],
   "source": []
  }
 ],
 "metadata": {
  "kernelspec": {
   "display_name": "Python 3",
   "language": "python",
   "name": "python3"
  },
  "language_info": {
   "codemirror_mode": {
    "name": "ipython",
    "version": 3
   },
   "file_extension": ".py",
   "mimetype": "text/x-python",
   "name": "python",
   "nbconvert_exporter": "python",
   "pygments_lexer": "ipython3",
   "version": "3.6.4"
  }
 },
 "nbformat": 4,
 "nbformat_minor": 2
}
